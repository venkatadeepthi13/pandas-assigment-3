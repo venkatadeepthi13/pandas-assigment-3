{
 "cells": [
  {
   "cell_type": "code",
   "execution_count": 1,
   "id": "70c33324",
   "metadata": {},
   "outputs": [],
   "source": [
    "import pandas as pd\n",
    "import numpy as np"
   ]
  },
  {
   "cell_type": "code",
   "execution_count": 3,
   "id": "b59123e8",
   "metadata": {},
   "outputs": [],
   "source": [
    "data=pd.read_csv(r\"C:\\Users\\DELL\\Downloads\\all_grains_data.csv\")"
   ]
  },
  {
   "cell_type": "code",
   "execution_count": 4,
   "id": "c3260c05",
   "metadata": {},
   "outputs": [
    {
     "data": {
      "text/html": [
       "<div>\n",
       "<style scoped>\n",
       "    .dataframe tbody tr th:only-of-type {\n",
       "        vertical-align: middle;\n",
       "    }\n",
       "\n",
       "    .dataframe tbody tr th {\n",
       "        vertical-align: top;\n",
       "    }\n",
       "\n",
       "    .dataframe thead th {\n",
       "        text-align: right;\n",
       "    }\n",
       "</style>\n",
       "<table border=\"1\" class=\"dataframe\">\n",
       "  <thead>\n",
       "    <tr style=\"text-align: right;\">\n",
       "      <th></th>\n",
       "      <th>ticker</th>\n",
       "      <th>commodity</th>\n",
       "      <th>date</th>\n",
       "      <th>open</th>\n",
       "      <th>high</th>\n",
       "      <th>low</th>\n",
       "      <th>close</th>\n",
       "      <th>volume</th>\n",
       "    </tr>\n",
       "  </thead>\n",
       "  <tbody>\n",
       "    <tr>\n",
       "      <th>0</th>\n",
       "      <td>ZC=F</td>\n",
       "      <td>Corn</td>\n",
       "      <td>2000-07-17</td>\n",
       "      <td>182.25</td>\n",
       "      <td>182.25</td>\n",
       "      <td>178.25</td>\n",
       "      <td>179.25</td>\n",
       "      <td>19385</td>\n",
       "    </tr>\n",
       "    <tr>\n",
       "      <th>1</th>\n",
       "      <td>ZC=F</td>\n",
       "      <td>Corn</td>\n",
       "      <td>2000-07-18</td>\n",
       "      <td>179.00</td>\n",
       "      <td>183.25</td>\n",
       "      <td>179.00</td>\n",
       "      <td>180.75</td>\n",
       "      <td>25205</td>\n",
       "    </tr>\n",
       "    <tr>\n",
       "      <th>2</th>\n",
       "      <td>ZC=F</td>\n",
       "      <td>Corn</td>\n",
       "      <td>2000-07-19</td>\n",
       "      <td>180.00</td>\n",
       "      <td>182.75</td>\n",
       "      <td>178.75</td>\n",
       "      <td>182.00</td>\n",
       "      <td>17126</td>\n",
       "    </tr>\n",
       "    <tr>\n",
       "      <th>3</th>\n",
       "      <td>ZC=F</td>\n",
       "      <td>Corn</td>\n",
       "      <td>2000-07-20</td>\n",
       "      <td>181.50</td>\n",
       "      <td>187.00</td>\n",
       "      <td>181.00</td>\n",
       "      <td>186.00</td>\n",
       "      <td>18742</td>\n",
       "    </tr>\n",
       "    <tr>\n",
       "      <th>4</th>\n",
       "      <td>ZC=F</td>\n",
       "      <td>Corn</td>\n",
       "      <td>2000-07-21</td>\n",
       "      <td>185.50</td>\n",
       "      <td>188.00</td>\n",
       "      <td>185.00</td>\n",
       "      <td>187.75</td>\n",
       "      <td>16814</td>\n",
       "    </tr>\n",
       "    <tr>\n",
       "      <th>...</th>\n",
       "      <td>...</td>\n",
       "      <td>...</td>\n",
       "      <td>...</td>\n",
       "      <td>...</td>\n",
       "      <td>...</td>\n",
       "      <td>...</td>\n",
       "      <td>...</td>\n",
       "      <td>...</td>\n",
       "    </tr>\n",
       "    <tr>\n",
       "      <th>34878</th>\n",
       "      <td>ZS=F</td>\n",
       "      <td>Soybean</td>\n",
       "      <td>2023-09-11</td>\n",
       "      <td>1352.50</td>\n",
       "      <td>1352.50</td>\n",
       "      <td>1352.00</td>\n",
       "      <td>1352.50</td>\n",
       "      <td>36</td>\n",
       "    </tr>\n",
       "    <tr>\n",
       "      <th>34879</th>\n",
       "      <td>ZS=F</td>\n",
       "      <td>Soybean</td>\n",
       "      <td>2023-09-12</td>\n",
       "      <td>1348.75</td>\n",
       "      <td>1348.75</td>\n",
       "      <td>1331.75</td>\n",
       "      <td>1331.75</td>\n",
       "      <td>274</td>\n",
       "    </tr>\n",
       "    <tr>\n",
       "      <th>34880</th>\n",
       "      <td>ZS=F</td>\n",
       "      <td>Soybean</td>\n",
       "      <td>2023-09-13</td>\n",
       "      <td>1325.50</td>\n",
       "      <td>1336.00</td>\n",
       "      <td>1325.50</td>\n",
       "      <td>1336.00</td>\n",
       "      <td>201</td>\n",
       "    </tr>\n",
       "    <tr>\n",
       "      <th>34881</th>\n",
       "      <td>ZS=F</td>\n",
       "      <td>Soybean</td>\n",
       "      <td>2023-09-14</td>\n",
       "      <td>1343.75</td>\n",
       "      <td>1343.75</td>\n",
       "      <td>1343.75</td>\n",
       "      <td>1343.75</td>\n",
       "      <td>138778</td>\n",
       "    </tr>\n",
       "    <tr>\n",
       "      <th>34882</th>\n",
       "      <td>ZS=F</td>\n",
       "      <td>Soybean</td>\n",
       "      <td>2023-09-15</td>\n",
       "      <td>1360.50</td>\n",
       "      <td>1367.75</td>\n",
       "      <td>1338.25</td>\n",
       "      <td>1340.25</td>\n",
       "      <td>138778</td>\n",
       "    </tr>\n",
       "  </tbody>\n",
       "</table>\n",
       "<p>34883 rows × 8 columns</p>\n",
       "</div>"
      ],
      "text/plain": [
       "      ticker commodity        date     open     high      low    close  volume\n",
       "0       ZC=F      Corn  2000-07-17   182.25   182.25   178.25   179.25   19385\n",
       "1       ZC=F      Corn  2000-07-18   179.00   183.25   179.00   180.75   25205\n",
       "2       ZC=F      Corn  2000-07-19   180.00   182.75   178.75   182.00   17126\n",
       "3       ZC=F      Corn  2000-07-20   181.50   187.00   181.00   186.00   18742\n",
       "4       ZC=F      Corn  2000-07-21   185.50   188.00   185.00   187.75   16814\n",
       "...      ...       ...         ...      ...      ...      ...      ...     ...\n",
       "34878   ZS=F   Soybean  2023-09-11  1352.50  1352.50  1352.00  1352.50      36\n",
       "34879   ZS=F   Soybean  2023-09-12  1348.75  1348.75  1331.75  1331.75     274\n",
       "34880   ZS=F   Soybean  2023-09-13  1325.50  1336.00  1325.50  1336.00     201\n",
       "34881   ZS=F   Soybean  2023-09-14  1343.75  1343.75  1343.75  1343.75  138778\n",
       "34882   ZS=F   Soybean  2023-09-15  1360.50  1367.75  1338.25  1340.25  138778\n",
       "\n",
       "[34883 rows x 8 columns]"
      ]
     },
     "execution_count": 4,
     "metadata": {},
     "output_type": "execute_result"
    }
   ],
   "source": [
    "data"
   ]
  },
  {
   "cell_type": "code",
   "execution_count": 5,
   "id": "ea05f5d8",
   "metadata": {},
   "outputs": [
    {
     "name": "stdout",
     "output_type": "stream",
     "text": [
      "<class 'pandas.core.frame.DataFrame'>\n",
      "RangeIndex: 34883 entries, 0 to 34882\n",
      "Data columns (total 8 columns):\n",
      " #   Column     Non-Null Count  Dtype  \n",
      "---  ------     --------------  -----  \n",
      " 0   ticker     34883 non-null  object \n",
      " 1   commodity  34883 non-null  object \n",
      " 2   date       34883 non-null  object \n",
      " 3   open       34883 non-null  float64\n",
      " 4   high       34883 non-null  float64\n",
      " 5   low        34883 non-null  float64\n",
      " 6   close      34883 non-null  float64\n",
      " 7   volume     34883 non-null  int64  \n",
      "dtypes: float64(4), int64(1), object(3)\n",
      "memory usage: 2.1+ MB\n"
     ]
    }
   ],
   "source": [
    "data.info()"
   ]
  },
  {
   "cell_type": "code",
   "execution_count": 59,
   "id": "0b87fb96",
   "metadata": {},
   "outputs": [],
   "source": [
    "data1=data.copy()"
   ]
  },
  {
   "cell_type": "code",
   "execution_count": 60,
   "id": "2b1941e8",
   "metadata": {},
   "outputs": [
    {
     "data": {
      "text/html": [
       "<div>\n",
       "<style scoped>\n",
       "    .dataframe tbody tr th:only-of-type {\n",
       "        vertical-align: middle;\n",
       "    }\n",
       "\n",
       "    .dataframe tbody tr th {\n",
       "        vertical-align: top;\n",
       "    }\n",
       "\n",
       "    .dataframe thead th {\n",
       "        text-align: right;\n",
       "    }\n",
       "</style>\n",
       "<table border=\"1\" class=\"dataframe\">\n",
       "  <thead>\n",
       "    <tr style=\"text-align: right;\">\n",
       "      <th></th>\n",
       "      <th>ticker</th>\n",
       "      <th>commodity</th>\n",
       "      <th>date</th>\n",
       "      <th>open</th>\n",
       "      <th>high</th>\n",
       "      <th>low</th>\n",
       "      <th>close</th>\n",
       "      <th>volume</th>\n",
       "    </tr>\n",
       "  </thead>\n",
       "  <tbody>\n",
       "    <tr>\n",
       "      <th>0</th>\n",
       "      <td>ZC=F</td>\n",
       "      <td>Corn</td>\n",
       "      <td>2000-07-17</td>\n",
       "      <td>182.25</td>\n",
       "      <td>182.25</td>\n",
       "      <td>178.25</td>\n",
       "      <td>179.25</td>\n",
       "      <td>19385</td>\n",
       "    </tr>\n",
       "    <tr>\n",
       "      <th>1</th>\n",
       "      <td>ZC=F</td>\n",
       "      <td>Corn</td>\n",
       "      <td>2000-07-18</td>\n",
       "      <td>179.00</td>\n",
       "      <td>183.25</td>\n",
       "      <td>179.00</td>\n",
       "      <td>180.75</td>\n",
       "      <td>25205</td>\n",
       "    </tr>\n",
       "    <tr>\n",
       "      <th>2</th>\n",
       "      <td>ZC=F</td>\n",
       "      <td>Corn</td>\n",
       "      <td>2000-07-19</td>\n",
       "      <td>180.00</td>\n",
       "      <td>182.75</td>\n",
       "      <td>178.75</td>\n",
       "      <td>182.00</td>\n",
       "      <td>17126</td>\n",
       "    </tr>\n",
       "    <tr>\n",
       "      <th>3</th>\n",
       "      <td>ZC=F</td>\n",
       "      <td>Corn</td>\n",
       "      <td>2000-07-20</td>\n",
       "      <td>181.50</td>\n",
       "      <td>187.00</td>\n",
       "      <td>181.00</td>\n",
       "      <td>186.00</td>\n",
       "      <td>18742</td>\n",
       "    </tr>\n",
       "    <tr>\n",
       "      <th>4</th>\n",
       "      <td>ZC=F</td>\n",
       "      <td>Corn</td>\n",
       "      <td>2000-07-21</td>\n",
       "      <td>185.50</td>\n",
       "      <td>188.00</td>\n",
       "      <td>185.00</td>\n",
       "      <td>187.75</td>\n",
       "      <td>16814</td>\n",
       "    </tr>\n",
       "    <tr>\n",
       "      <th>...</th>\n",
       "      <td>...</td>\n",
       "      <td>...</td>\n",
       "      <td>...</td>\n",
       "      <td>...</td>\n",
       "      <td>...</td>\n",
       "      <td>...</td>\n",
       "      <td>...</td>\n",
       "      <td>...</td>\n",
       "    </tr>\n",
       "    <tr>\n",
       "      <th>34878</th>\n",
       "      <td>ZS=F</td>\n",
       "      <td>Soybean</td>\n",
       "      <td>2023-09-11</td>\n",
       "      <td>1352.50</td>\n",
       "      <td>1352.50</td>\n",
       "      <td>1352.00</td>\n",
       "      <td>1352.50</td>\n",
       "      <td>36</td>\n",
       "    </tr>\n",
       "    <tr>\n",
       "      <th>34879</th>\n",
       "      <td>ZS=F</td>\n",
       "      <td>Soybean</td>\n",
       "      <td>2023-09-12</td>\n",
       "      <td>1348.75</td>\n",
       "      <td>1348.75</td>\n",
       "      <td>1331.75</td>\n",
       "      <td>1331.75</td>\n",
       "      <td>274</td>\n",
       "    </tr>\n",
       "    <tr>\n",
       "      <th>34880</th>\n",
       "      <td>ZS=F</td>\n",
       "      <td>Soybean</td>\n",
       "      <td>2023-09-13</td>\n",
       "      <td>1325.50</td>\n",
       "      <td>1336.00</td>\n",
       "      <td>1325.50</td>\n",
       "      <td>1336.00</td>\n",
       "      <td>201</td>\n",
       "    </tr>\n",
       "    <tr>\n",
       "      <th>34881</th>\n",
       "      <td>ZS=F</td>\n",
       "      <td>Soybean</td>\n",
       "      <td>2023-09-14</td>\n",
       "      <td>1343.75</td>\n",
       "      <td>1343.75</td>\n",
       "      <td>1343.75</td>\n",
       "      <td>1343.75</td>\n",
       "      <td>138778</td>\n",
       "    </tr>\n",
       "    <tr>\n",
       "      <th>34882</th>\n",
       "      <td>ZS=F</td>\n",
       "      <td>Soybean</td>\n",
       "      <td>2023-09-15</td>\n",
       "      <td>1360.50</td>\n",
       "      <td>1367.75</td>\n",
       "      <td>1338.25</td>\n",
       "      <td>1340.25</td>\n",
       "      <td>138778</td>\n",
       "    </tr>\n",
       "  </tbody>\n",
       "</table>\n",
       "<p>34883 rows × 8 columns</p>\n",
       "</div>"
      ],
      "text/plain": [
       "      ticker commodity        date     open     high      low    close  volume\n",
       "0       ZC=F      Corn  2000-07-17   182.25   182.25   178.25   179.25   19385\n",
       "1       ZC=F      Corn  2000-07-18   179.00   183.25   179.00   180.75   25205\n",
       "2       ZC=F      Corn  2000-07-19   180.00   182.75   178.75   182.00   17126\n",
       "3       ZC=F      Corn  2000-07-20   181.50   187.00   181.00   186.00   18742\n",
       "4       ZC=F      Corn  2000-07-21   185.50   188.00   185.00   187.75   16814\n",
       "...      ...       ...         ...      ...      ...      ...      ...     ...\n",
       "34878   ZS=F   Soybean  2023-09-11  1352.50  1352.50  1352.00  1352.50      36\n",
       "34879   ZS=F   Soybean  2023-09-12  1348.75  1348.75  1331.75  1331.75     274\n",
       "34880   ZS=F   Soybean  2023-09-13  1325.50  1336.00  1325.50  1336.00     201\n",
       "34881   ZS=F   Soybean  2023-09-14  1343.75  1343.75  1343.75  1343.75  138778\n",
       "34882   ZS=F   Soybean  2023-09-15  1360.50  1367.75  1338.25  1340.25  138778\n",
       "\n",
       "[34883 rows x 8 columns]"
      ]
     },
     "execution_count": 60,
     "metadata": {},
     "output_type": "execute_result"
    }
   ],
   "source": [
    "data1"
   ]
  },
  {
   "cell_type": "code",
   "execution_count": 8,
   "id": "53bbf7b5",
   "metadata": {},
   "outputs": [
    {
     "data": {
      "text/plain": [
       "(34883, 8)"
      ]
     },
     "execution_count": 8,
     "metadata": {},
     "output_type": "execute_result"
    }
   ],
   "source": [
    "data1.shape"
   ]
  },
  {
   "cell_type": "code",
   "execution_count": null,
   "id": "bde532fd",
   "metadata": {},
   "outputs": [],
   "source": [
    "          "
   ]
  },
  {
   "cell_type": "code",
   "execution_count": null,
   "id": "cf27194c",
   "metadata": {},
   "outputs": [],
   "source": [
    "#1.Which commodity was having the highest opening price for the day"
   ]
  },
  {
   "cell_type": "code",
   "execution_count": 11,
   "id": "245a873f",
   "metadata": {},
   "outputs": [
    {
     "data": {
      "text/plain": [
       "19437    Rough Rice\n",
       "Name: commodity, dtype: object"
      ]
     },
     "execution_count": 11,
     "metadata": {},
     "output_type": "execute_result"
    }
   ],
   "source": [
    "data1['commodity'][data1['open']==data1['open'].max()]"
   ]
  },
  {
   "cell_type": "code",
   "execution_count": 12,
   "id": "b932ff46",
   "metadata": {},
   "outputs": [],
   "source": [
    "# Rough Rice commodity was having the highest opening price for the day."
   ]
  },
  {
   "cell_type": "code",
   "execution_count": null,
   "id": "3c115432",
   "metadata": {},
   "outputs": [],
   "source": []
  },
  {
   "cell_type": "code",
   "execution_count": 14,
   "id": "b2623720",
   "metadata": {},
   "outputs": [],
   "source": [
    "#2.Which commodity price reached  maximum during the trading session"
   ]
  },
  {
   "cell_type": "code",
   "execution_count": 18,
   "id": "82757966",
   "metadata": {},
   "outputs": [
    {
     "data": {
      "text/plain": [
       "19437    Rough Rice\n",
       "Name: commodity, dtype: object"
      ]
     },
     "execution_count": 18,
     "metadata": {},
     "output_type": "execute_result"
    }
   ],
   "source": [
    "data1['commodity'][data1['high']==data1['high'].max()]"
   ]
  },
  {
   "cell_type": "code",
   "execution_count": null,
   "id": "150a288e",
   "metadata": {},
   "outputs": [],
   "source": [
    "#  Rough Rice commodity price reached maximum during the trading session."
   ]
  },
  {
   "cell_type": "code",
   "execution_count": null,
   "id": "33c25d9e",
   "metadata": {},
   "outputs": [],
   "source": []
  },
  {
   "cell_type": "code",
   "execution_count": 19,
   "id": "82e4cea3",
   "metadata": {},
   "outputs": [],
   "source": [
    "#3.What is the average Market's opening price for the Oat in 2010"
   ]
  },
  {
   "cell_type": "code",
   "execution_count": 61,
   "id": "c954d673",
   "metadata": {},
   "outputs": [],
   "source": [
    "data1['date']=pd.to_datetime(data1['date'])"
   ]
  },
  {
   "cell_type": "code",
   "execution_count": 62,
   "id": "a5a81efa",
   "metadata": {},
   "outputs": [],
   "source": [
    "data1['date']=data1['date'].dt.year"
   ]
  },
  {
   "cell_type": "code",
   "execution_count": 82,
   "id": "656ff279",
   "metadata": {},
   "outputs": [
    {
     "data": {
      "text/plain": [
       "275.11607142857144"
      ]
     },
     "execution_count": 82,
     "metadata": {},
     "output_type": "execute_result"
    }
   ],
   "source": [
    "data1['open'][(data1['commodity']=='Oat') & (data1['date']==2010)].mean()"
   ]
  },
  {
   "cell_type": "code",
   "execution_count": 83,
   "id": "9333c776",
   "metadata": {},
   "outputs": [],
   "source": [
    "#275.11607142857144 is the average Market's opening price for the Oat in 2010"
   ]
  },
  {
   "cell_type": "code",
   "execution_count": null,
   "id": "9bf78a2b",
   "metadata": {},
   "outputs": [],
   "source": []
  },
  {
   "cell_type": "code",
   "execution_count": 57,
   "id": "2c19b6b5",
   "metadata": {},
   "outputs": [],
   "source": [
    "#4.What is the maximum and minimum Number of contracts traded during the 2009 "
   ]
  },
  {
   "cell_type": "code",
   "execution_count": null,
   "id": "8a1da531",
   "metadata": {},
   "outputs": [],
   "source": [
    "data1['date']=data1.astype('')"
   ]
  },
  {
   "cell_type": "code",
   "execution_count": 76,
   "id": "27508a88",
   "metadata": {},
   "outputs": [
    {
     "data": {
      "text/plain": [
       "252221"
      ]
     },
     "execution_count": 76,
     "metadata": {},
     "output_type": "execute_result"
    }
   ],
   "source": [
    "data1['volume'][data1['date']==2009].max()"
   ]
  },
  {
   "cell_type": "code",
   "execution_count": 78,
   "id": "6a5ca4c5",
   "metadata": {},
   "outputs": [
    {
     "data": {
      "text/plain": [
       "0"
      ]
     },
     "execution_count": 78,
     "metadata": {},
     "output_type": "execute_result"
    }
   ],
   "source": [
    "data1['volume'][data1['date']==2009].min()"
   ]
  },
  {
   "cell_type": "code",
   "execution_count": null,
   "id": "5c1a2983",
   "metadata": {},
   "outputs": [],
   "source": [
    "#252221 is the maximum Number of contracts traded during the 2009\n",
    "#0 is the minimum Number of contracts traded during the 2009"
   ]
  },
  {
   "cell_type": "code",
   "execution_count": null,
   "id": "ad121900",
   "metadata": {},
   "outputs": [],
   "source": [
    "#5.Which year have  maximum and minimum Number of contracts traded "
   ]
  },
  {
   "cell_type": "code",
   "execution_count": 84,
   "id": "47ab9671",
   "metadata": {},
   "outputs": [
    {
     "data": {
      "text/plain": [
       "4216    2017\n",
       "Name: date, dtype: int64"
      ]
     },
     "execution_count": 84,
     "metadata": {},
     "output_type": "execute_result"
    }
   ],
   "source": [
    "data1['date'][data1['volume']==data1['volume'].max()]"
   ]
  },
  {
   "cell_type": "code",
   "execution_count": 100,
   "id": "115bbf01",
   "metadata": {},
   "outputs": [
    {
     "data": {
      "text/plain": [
       "array([2003, 2005, 2018, 2023, 2001, 2002, 2006, 2007, 2008, 2009, 2011,\n",
       "       2017, 2019, 2020, 2021, 2022, 2000, 2004, 2010, 2012, 2016],\n",
       "      dtype=int64)"
      ]
     },
     "execution_count": 100,
     "metadata": {},
     "output_type": "execute_result"
    }
   ],
   "source": [
    "data1['date'][data1['volume']==data1['volume'].min()].unique()"
   ]
  },
  {
   "cell_type": "code",
   "execution_count": 99,
   "id": "11dc74ec",
   "metadata": {},
   "outputs": [
    {
     "data": {
      "text/plain": [
       "(21,)"
      ]
     },
     "execution_count": 99,
     "metadata": {},
     "output_type": "execute_result"
    }
   ],
   "source": [
    "data1['date'][data1['volume']==data1['volume'].min()].unique().shape"
   ]
  },
  {
   "cell_type": "code",
   "execution_count": null,
   "id": "a6b16a13",
   "metadata": {},
   "outputs": [],
   "source": [
    "#2017 have maximum Number of contracts traded "
   ]
  },
  {
   "cell_type": "code",
   "execution_count": 101,
   "id": "a0805f83",
   "metadata": {},
   "outputs": [],
   "source": [
    "# 21 years have minimum Number of contracts traded they are 2003,2005,2018,2023,2011,2020........."
   ]
  },
  {
   "cell_type": "code",
   "execution_count": null,
   "id": "34512c2a",
   "metadata": {},
   "outputs": [],
   "source": []
  },
  {
   "cell_type": "code",
   "execution_count": 102,
   "id": "c15b93b0",
   "metadata": {},
   "outputs": [],
   "source": [
    "#6.Which commodity have the average lowest opening price around 2001 to 2005 "
   ]
  },
  {
   "cell_type": "code",
   "execution_count": 185,
   "id": "2a289c0c",
   "metadata": {},
   "outputs": [
    {
     "data": {
      "text/plain": [
       "0        False\n",
       "1        False\n",
       "2        False\n",
       "3        False\n",
       "4        False\n",
       "         ...  \n",
       "34878    False\n",
       "34879    False\n",
       "34880    False\n",
       "34881    False\n",
       "34882    False\n",
       "Name: date, Length: 34883, dtype: bool"
      ]
     },
     "execution_count": 185,
     "metadata": {},
     "output_type": "execute_result"
    }
   ],
   "source": [
    "data1['date']==np.nan"
   ]
  },
  {
   "cell_type": "code",
   "execution_count": null,
   "id": "0b5b8f7d",
   "metadata": {},
   "outputs": [],
   "source": []
  },
  {
   "cell_type": "code",
   "execution_count": 171,
   "id": "7499a01a",
   "metadata": {},
   "outputs": [
    {
     "data": {
      "text/plain": [
       "array(['Corn', 'Oat', 'KC HRW Wheat', 'Rough Rice', 'Soybean Oil',\n",
       "       'Soybean'], dtype=object)"
      ]
     },
     "execution_count": 171,
     "metadata": {},
     "output_type": "execute_result"
    }
   ],
   "source": [
    "data1['commodity'][(data1['date']>=2001) & (data1['date']<=2005)].unique()"
   ]
  },
  {
   "cell_type": "code",
   "execution_count": 135,
   "id": "cc845617",
   "metadata": {},
   "outputs": [
    {
     "data": {
      "text/plain": [
       "Series([], Name: commodity, dtype: object)"
      ]
     },
     "execution_count": 135,
     "metadata": {},
     "output_type": "execute_result"
    }
   ],
   "source": [
    "data1['commodity'][data1['open']=='573.89088752735']"
   ]
  },
  {
   "cell_type": "code",
   "execution_count": 181,
   "id": "e0109bb2",
   "metadata": {},
   "outputs": [
    {
     "data": {
      "text/html": [
       "<div>\n",
       "<style scoped>\n",
       "    .dataframe tbody tr th:only-of-type {\n",
       "        vertical-align: middle;\n",
       "    }\n",
       "\n",
       "    .dataframe tbody tr th {\n",
       "        vertical-align: top;\n",
       "    }\n",
       "\n",
       "    .dataframe thead tr th {\n",
       "        text-align: left;\n",
       "    }\n",
       "\n",
       "    .dataframe thead tr:last-of-type th {\n",
       "        text-align: right;\n",
       "    }\n",
       "</style>\n",
       "<table border=\"1\" class=\"dataframe\">\n",
       "  <thead>\n",
       "    <tr>\n",
       "      <th></th>\n",
       "      <th colspan=\"21\" halign=\"left\">mean</th>\n",
       "    </tr>\n",
       "    <tr>\n",
       "      <th>date</th>\n",
       "      <th>2000</th>\n",
       "      <th>2001</th>\n",
       "      <th>2002</th>\n",
       "      <th>2003</th>\n",
       "      <th>2004</th>\n",
       "      <th>2005</th>\n",
       "      <th>2006</th>\n",
       "      <th>2007</th>\n",
       "      <th>2008</th>\n",
       "      <th>2009</th>\n",
       "      <th>...</th>\n",
       "      <th>2015</th>\n",
       "      <th>2016</th>\n",
       "      <th>2017</th>\n",
       "      <th>2018</th>\n",
       "      <th>2019</th>\n",
       "      <th>2020</th>\n",
       "      <th>2021</th>\n",
       "      <th>2022</th>\n",
       "      <th>2023</th>\n",
       "      <th>All</th>\n",
       "    </tr>\n",
       "    <tr>\n",
       "      <th>commodity</th>\n",
       "      <th></th>\n",
       "      <th></th>\n",
       "      <th></th>\n",
       "      <th></th>\n",
       "      <th></th>\n",
       "      <th></th>\n",
       "      <th></th>\n",
       "      <th></th>\n",
       "      <th></th>\n",
       "      <th></th>\n",
       "      <th></th>\n",
       "      <th></th>\n",
       "      <th></th>\n",
       "      <th></th>\n",
       "      <th></th>\n",
       "      <th></th>\n",
       "      <th></th>\n",
       "      <th></th>\n",
       "      <th></th>\n",
       "      <th></th>\n",
       "      <th></th>\n",
       "    </tr>\n",
       "  </thead>\n",
       "  <tbody>\n",
       "    <tr>\n",
       "      <th>Corn</th>\n",
       "      <td>191.140306</td>\n",
       "      <td>207.622318</td>\n",
       "      <td>227.221230</td>\n",
       "      <td>233.155754</td>\n",
       "      <td>252.610672</td>\n",
       "      <td>208.791502</td>\n",
       "      <td>260.100198</td>\n",
       "      <td>373.269920</td>\n",
       "      <td>527.732213</td>\n",
       "      <td>373.243056</td>\n",
       "      <td>...</td>\n",
       "      <td>376.749008</td>\n",
       "      <td>358.454000</td>\n",
       "      <td>359.399402</td>\n",
       "      <td>368.116466</td>\n",
       "      <td>383.764881</td>\n",
       "      <td>362.804348</td>\n",
       "      <td>581.257937</td>\n",
       "      <td>693.347610</td>\n",
       "      <td>600.346045</td>\n",
       "      <td>409.282059</td>\n",
       "    </tr>\n",
       "    <tr>\n",
       "      <th>KC HRW Wheat</th>\n",
       "      <td>312.057143</td>\n",
       "      <td>304.975000</td>\n",
       "      <td>353.250992</td>\n",
       "      <td>346.882937</td>\n",
       "      <td>366.938247</td>\n",
       "      <td>345.984190</td>\n",
       "      <td>467.598606</td>\n",
       "      <td>643.938492</td>\n",
       "      <td>839.379447</td>\n",
       "      <td>560.445437</td>\n",
       "      <td>...</td>\n",
       "      <td>515.106151</td>\n",
       "      <td>433.378000</td>\n",
       "      <td>439.766932</td>\n",
       "      <td>499.841633</td>\n",
       "      <td>436.422619</td>\n",
       "      <td>485.144269</td>\n",
       "      <td>683.116071</td>\n",
       "      <td>970.594622</td>\n",
       "      <td>827.562147</td>\n",
       "      <td>563.985475</td>\n",
       "    </tr>\n",
       "    <tr>\n",
       "      <th>Oat</th>\n",
       "      <td>114.725000</td>\n",
       "      <td>134.846273</td>\n",
       "      <td>179.671429</td>\n",
       "      <td>162.238987</td>\n",
       "      <td>151.376984</td>\n",
       "      <td>161.946640</td>\n",
       "      <td>204.343254</td>\n",
       "      <td>270.082669</td>\n",
       "      <td>340.519763</td>\n",
       "      <td>218.389881</td>\n",
       "      <td>...</td>\n",
       "      <td>250.418651</td>\n",
       "      <td>196.893000</td>\n",
       "      <td>252.570717</td>\n",
       "      <td>256.323705</td>\n",
       "      <td>286.804563</td>\n",
       "      <td>296.831028</td>\n",
       "      <td>483.680556</td>\n",
       "      <td>552.806773</td>\n",
       "      <td>379.190678</td>\n",
       "      <td>278.897021</td>\n",
       "    </tr>\n",
       "    <tr>\n",
       "      <th>Rough Rice</th>\n",
       "      <td>660.182867</td>\n",
       "      <td>496.389113</td>\n",
       "      <td>388.082000</td>\n",
       "      <td>638.529762</td>\n",
       "      <td>851.077381</td>\n",
       "      <td>705.928571</td>\n",
       "      <td>901.573413</td>\n",
       "      <td>1090.990079</td>\n",
       "      <td>1758.167984</td>\n",
       "      <td>1329.145833</td>\n",
       "      <td>...</td>\n",
       "      <td>1106.273810</td>\n",
       "      <td>1036.152000</td>\n",
       "      <td>1105.906375</td>\n",
       "      <td>1155.091633</td>\n",
       "      <td>1133.231250</td>\n",
       "      <td>1362.992095</td>\n",
       "      <td>1333.849206</td>\n",
       "      <td>1649.432271</td>\n",
       "      <td>1715.316384</td>\n",
       "      <td>1143.643069</td>\n",
       "    </tr>\n",
       "    <tr>\n",
       "      <th>Soybean</th>\n",
       "      <td>486.820946</td>\n",
       "      <td>458.641700</td>\n",
       "      <td>514.157738</td>\n",
       "      <td>634.351190</td>\n",
       "      <td>751.830040</td>\n",
       "      <td>608.149209</td>\n",
       "      <td>591.744048</td>\n",
       "      <td>861.713147</td>\n",
       "      <td>1233.301383</td>\n",
       "      <td>1029.749008</td>\n",
       "      <td>...</td>\n",
       "      <td>945.103175</td>\n",
       "      <td>987.949000</td>\n",
       "      <td>976.195219</td>\n",
       "      <td>932.299801</td>\n",
       "      <td>890.091270</td>\n",
       "      <td>951.897233</td>\n",
       "      <td>1375.662698</td>\n",
       "      <td>1549.652390</td>\n",
       "      <td>1457.107345</td>\n",
       "      <td>997.618605</td>\n",
       "    </tr>\n",
       "    <tr>\n",
       "      <th>Soybean Oil</th>\n",
       "      <td>16.108743</td>\n",
       "      <td>15.828465</td>\n",
       "      <td>18.672073</td>\n",
       "      <td>22.171189</td>\n",
       "      <td>26.760952</td>\n",
       "      <td>22.544308</td>\n",
       "      <td>25.030198</td>\n",
       "      <td>36.264621</td>\n",
       "      <td>51.462965</td>\n",
       "      <td>35.704524</td>\n",
       "      <td>...</td>\n",
       "      <td>30.509127</td>\n",
       "      <td>32.740720</td>\n",
       "      <td>33.366813</td>\n",
       "      <td>29.899084</td>\n",
       "      <td>29.262619</td>\n",
       "      <td>31.293636</td>\n",
       "      <td>58.227579</td>\n",
       "      <td>71.084422</td>\n",
       "      <td>59.558418</td>\n",
       "      <td>36.837337</td>\n",
       "    </tr>\n",
       "    <tr>\n",
       "      <th>All</th>\n",
       "      <td>313.415011</td>\n",
       "      <td>287.782513</td>\n",
       "      <td>281.549820</td>\n",
       "      <td>348.014268</td>\n",
       "      <td>400.255955</td>\n",
       "      <td>341.984318</td>\n",
       "      <td>408.359107</td>\n",
       "      <td>546.469443</td>\n",
       "      <td>791.760626</td>\n",
       "      <td>585.208693</td>\n",
       "      <td>...</td>\n",
       "      <td>537.359987</td>\n",
       "      <td>507.594453</td>\n",
       "      <td>527.867576</td>\n",
       "      <td>540.490971</td>\n",
       "      <td>521.743120</td>\n",
       "      <td>581.827101</td>\n",
       "      <td>752.632341</td>\n",
       "      <td>914.486348</td>\n",
       "      <td>839.846836</td>\n",
       "      <td>573.890888</td>\n",
       "    </tr>\n",
       "  </tbody>\n",
       "</table>\n",
       "<p>7 rows × 25 columns</p>\n",
       "</div>"
      ],
      "text/plain": [
       "                    mean                                                  \\\n",
       "date                2000        2001        2002        2003        2004   \n",
       "commodity                                                                  \n",
       "Corn          191.140306  207.622318  227.221230  233.155754  252.610672   \n",
       "KC HRW Wheat  312.057143  304.975000  353.250992  346.882937  366.938247   \n",
       "Oat           114.725000  134.846273  179.671429  162.238987  151.376984   \n",
       "Rough Rice    660.182867  496.389113  388.082000  638.529762  851.077381   \n",
       "Soybean       486.820946  458.641700  514.157738  634.351190  751.830040   \n",
       "Soybean Oil    16.108743   15.828465   18.672073   22.171189   26.760952   \n",
       "All           313.415011  287.782513  281.549820  348.014268  400.255955   \n",
       "\n",
       "                                                                             \\\n",
       "date                2005        2006         2007         2008         2009   \n",
       "commodity                                                                     \n",
       "Corn          208.791502  260.100198   373.269920   527.732213   373.243056   \n",
       "KC HRW Wheat  345.984190  467.598606   643.938492   839.379447   560.445437   \n",
       "Oat           161.946640  204.343254   270.082669   340.519763   218.389881   \n",
       "Rough Rice    705.928571  901.573413  1090.990079  1758.167984  1329.145833   \n",
       "Soybean       608.149209  591.744048   861.713147  1233.301383  1029.749008   \n",
       "Soybean Oil    22.544308   25.030198    36.264621    51.462965    35.704524   \n",
       "All           341.984318  408.359107   546.469443   791.760626   585.208693   \n",
       "\n",
       "              ...                                                      \\\n",
       "date          ...         2015         2016         2017         2018   \n",
       "commodity     ...                                                       \n",
       "Corn          ...   376.749008   358.454000   359.399402   368.116466   \n",
       "KC HRW Wheat  ...   515.106151   433.378000   439.766932   499.841633   \n",
       "Oat           ...   250.418651   196.893000   252.570717   256.323705   \n",
       "Rough Rice    ...  1106.273810  1036.152000  1105.906375  1155.091633   \n",
       "Soybean       ...   945.103175   987.949000   976.195219   932.299801   \n",
       "Soybean Oil   ...    30.509127    32.740720    33.366813    29.899084   \n",
       "All           ...   537.359987   507.594453   527.867576   540.490971   \n",
       "\n",
       "                                                                               \\\n",
       "date                 2019         2020         2021         2022         2023   \n",
       "commodity                                                                       \n",
       "Corn           383.764881   362.804348   581.257937   693.347610   600.346045   \n",
       "KC HRW Wheat   436.422619   485.144269   683.116071   970.594622   827.562147   \n",
       "Oat            286.804563   296.831028   483.680556   552.806773   379.190678   \n",
       "Rough Rice    1133.231250  1362.992095  1333.849206  1649.432271  1715.316384   \n",
       "Soybean        890.091270   951.897233  1375.662698  1549.652390  1457.107345   \n",
       "Soybean Oil     29.262619    31.293636    58.227579    71.084422    59.558418   \n",
       "All            521.743120   581.827101   752.632341   914.486348   839.846836   \n",
       "\n",
       "                           \n",
       "date                  All  \n",
       "commodity                  \n",
       "Corn           409.282059  \n",
       "KC HRW Wheat   563.985475  \n",
       "Oat            278.897021  \n",
       "Rough Rice    1143.643069  \n",
       "Soybean        997.618605  \n",
       "Soybean Oil     36.837337  \n",
       "All            573.890888  \n",
       "\n",
       "[7 rows x 25 columns]"
      ]
     },
     "execution_count": 181,
     "metadata": {},
     "output_type": "execute_result"
    }
   ],
   "source": [
    "pd.pivot_table(data1,index='commodity',columns='date',values='open',aggfunc=['mean'],margins=True)"
   ]
  },
  {
   "cell_type": "code",
   "execution_count": 178,
   "id": "eed7df95",
   "metadata": {},
   "outputs": [],
   "source": [
    "#Corn,Oat,KC HRW Wheat,Rough Rice,Soybean Oil,Soybean commodity have the average lowest opening price around 2001 to 2005 "
   ]
  },
  {
   "cell_type": "code",
   "execution_count": null,
   "id": "18243f5d",
   "metadata": {},
   "outputs": [],
   "source": []
  },
  {
   "cell_type": "code",
   "execution_count": 121,
   "id": "9c06efa4",
   "metadata": {},
   "outputs": [],
   "source": [
    "#7.Which commodity have the best average  Market's closing price"
   ]
  },
  {
   "cell_type": "code",
   "execution_count": null,
   "id": "abceaee0",
   "metadata": {},
   "outputs": [],
   "source": []
  },
  {
   "cell_type": "code",
   "execution_count": 187,
   "id": "53aae98f",
   "metadata": {},
   "outputs": [
    {
     "data": {
      "text/plain": [
       "Series([], Name: commodity, dtype: object)"
      ]
     },
     "execution_count": 187,
     "metadata": {},
     "output_type": "execute_result"
    }
   ],
   "source": [
    "data1['commodity'][data1['close']==data1['close'].mean()]"
   ]
  },
  {
   "cell_type": "code",
   "execution_count": null,
   "id": "ec65eee8",
   "metadata": {},
   "outputs": [],
   "source": []
  },
  {
   "cell_type": "code",
   "execution_count": null,
   "id": "0e079a19",
   "metadata": {},
   "outputs": [],
   "source": []
  },
  {
   "cell_type": "code",
   "execution_count": 146,
   "id": "5d92c276",
   "metadata": {},
   "outputs": [],
   "source": [
    "#8.Which year corn have the highest and lowest Number of contracts traded"
   ]
  },
  {
   "cell_type": "code",
   "execution_count": 188,
   "id": "099b4ad1",
   "metadata": {},
   "outputs": [
    {
     "data": {
      "text/plain": [
       "Series([], Name: date, dtype: int64)"
      ]
     },
     "execution_count": 188,
     "metadata": {},
     "output_type": "execute_result"
    }
   ],
   "source": [
    "data1['date'][(data1['commodity']=='corn') & (data1['volume']==data1['volume'].max())]"
   ]
  },
  {
   "cell_type": "code",
   "execution_count": null,
   "id": "35d1c7d9",
   "metadata": {},
   "outputs": [],
   "source": []
  }
 ],
 "metadata": {
  "kernelspec": {
   "display_name": "Python 3 (ipykernel)",
   "language": "python",
   "name": "python3"
  },
  "language_info": {
   "codemirror_mode": {
    "name": "ipython",
    "version": 3
   },
   "file_extension": ".py",
   "mimetype": "text/x-python",
   "name": "python",
   "nbconvert_exporter": "python",
   "pygments_lexer": "ipython3",
   "version": "3.9.7"
  }
 },
 "nbformat": 4,
 "nbformat_minor": 5
}
